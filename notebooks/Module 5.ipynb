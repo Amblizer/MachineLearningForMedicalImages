{
 "cells": [
  {
   "cell_type": "markdown",
   "metadata": {},
   "source": [
    "# Classifier evaluation metrics "
   ]
  },
  {
   "cell_type": "markdown",
   "metadata": {},
   "source": [
    "## Read the data"
   ]
  },
  {
   "cell_type": "code",
   "execution_count": 1,
   "metadata": {
    "collapsed": false
   },
   "outputs": [
    {
     "data": {
      "text/html": [
       "<div>\n",
       "<table border=\"1\" class=\"dataframe\">\n",
       "  <thead>\n",
       "    <tr style=\"text-align: right;\">\n",
       "      <th></th>\n",
       "      <th>ClassEdemaPre</th>\n",
       "      <th>ClassEdemaPost</th>\n",
       "      <th>ClassTissueFlair</th>\n",
       "      <th>ClassEdemaFlair</th>\n",
       "      <th>ClassTumorFlair</th>\n",
       "      <th>ClassTissuePost</th>\n",
       "      <th>ClassTumorPost</th>\n",
       "      <th>ClassTissuePre</th>\n",
       "      <th>ClassTumorPre</th>\n",
       "    </tr>\n",
       "  </thead>\n",
       "  <tbody>\n",
       "    <tr>\n",
       "      <th>0</th>\n",
       "      <td>1.153593</td>\n",
       "      <td>1.043390</td>\n",
       "      <td>0.568602</td>\n",
       "      <td>1.244563</td>\n",
       "      <td>1.263765</td>\n",
       "      <td>0.269377</td>\n",
       "      <td>1.771372</td>\n",
       "      <td>0.832707</td>\n",
       "      <td>1.200128</td>\n",
       "    </tr>\n",
       "    <tr>\n",
       "      <th>1</th>\n",
       "      <td>1.207222</td>\n",
       "      <td>1.111777</td>\n",
       "      <td>0.059813</td>\n",
       "      <td>1.267483</td>\n",
       "      <td>2.170994</td>\n",
       "      <td>0.025167</td>\n",
       "      <td>1.607958</td>\n",
       "      <td>0.119511</td>\n",
       "      <td>1.210576</td>\n",
       "    </tr>\n",
       "    <tr>\n",
       "      <th>2</th>\n",
       "      <td>1.129254</td>\n",
       "      <td>0.924474</td>\n",
       "      <td>0.046106</td>\n",
       "      <td>1.318608</td>\n",
       "      <td>1.839030</td>\n",
       "      <td>0.049453</td>\n",
       "      <td>1.709299</td>\n",
       "      <td>0.045267</td>\n",
       "      <td>1.245954</td>\n",
       "    </tr>\n",
       "    <tr>\n",
       "      <th>3</th>\n",
       "      <td>1.015360</td>\n",
       "      <td>1.037350</td>\n",
       "      <td>0.303170</td>\n",
       "      <td>1.420815</td>\n",
       "      <td>1.416610</td>\n",
       "      <td>0.906734</td>\n",
       "      <td>2.225173</td>\n",
       "      <td>0.999662</td>\n",
       "      <td>1.128684</td>\n",
       "    </tr>\n",
       "    <tr>\n",
       "      <th>4</th>\n",
       "      <td>1.030810</td>\n",
       "      <td>0.916476</td>\n",
       "      <td>1.064397</td>\n",
       "      <td>1.742959</td>\n",
       "      <td>0.854583</td>\n",
       "      <td>0.930869</td>\n",
       "      <td>1.864301</td>\n",
       "      <td>0.923693</td>\n",
       "      <td>0.869097</td>\n",
       "    </tr>\n",
       "  </tbody>\n",
       "</table>\n",
       "</div>"
      ],
      "text/plain": [
       "   ClassEdemaPre  ClassEdemaPost  ClassTissueFlair  ClassEdemaFlair  \\\n",
       "0       1.153593        1.043390          0.568602         1.244563   \n",
       "1       1.207222        1.111777          0.059813         1.267483   \n",
       "2       1.129254        0.924474          0.046106         1.318608   \n",
       "3       1.015360        1.037350          0.303170         1.420815   \n",
       "4       1.030810        0.916476          1.064397         1.742959   \n",
       "\n",
       "   ClassTumorFlair  ClassTissuePost  ClassTumorPost  ClassTissuePre  \\\n",
       "0         1.263765         0.269377        1.771372        0.832707   \n",
       "1         2.170994         0.025167        1.607958        0.119511   \n",
       "2         1.839030         0.049453        1.709299        0.045267   \n",
       "3         1.416610         0.906734        2.225173        0.999662   \n",
       "4         0.854583         0.930869        1.864301        0.923693   \n",
       "\n",
       "   ClassTumorPre  \n",
       "0       1.200128  \n",
       "1       1.210576  \n",
       "2       1.245954  \n",
       "3       1.128684  \n",
       "4       0.869097  "
      ]
     },
     "execution_count": 1,
     "metadata": {},
     "output_type": "execute_result"
    }
   ],
   "source": [
    "%matplotlib inline\n",
    "\n",
    "import matplotlib.pyplot as plt\n",
    "import pandas as pd\n",
    "import numpy as np\n",
    "Data=pd.read_csv ('DataExample.csv')\n",
    "Data.head()\n"
   ]
  },
  {
   "cell_type": "code",
   "execution_count": 2,
   "metadata": {
    "collapsed": false
   },
   "outputs": [],
   "source": [
    "ClassBrainTissuepost=(Data['ClassTissuePost'].values)\n",
    "ClassBrainTissuepost= (np.asarray(ClassBrainTissuepost))\n",
    "ClassBrainTissuepost=ClassBrainTissuepost[~np.isnan(ClassBrainTissuepost)]\n",
    "ClassBrainTissuepre=(Data[['ClassTissuePre']].values)\n",
    "ClassBrainTissuepre= (np.asarray(ClassBrainTissuepre))\n",
    "ClassBrainTissuepre=ClassBrainTissuepre[~np.isnan(ClassBrainTissuepre)]\n",
    "ClassTUMORpost=(Data[['ClassTumorPost']].values)\n",
    "ClassTUMORpost= (np.asarray(ClassTUMORpost))\n",
    "ClassTUMORpost=ClassTUMORpost[~np.isnan(ClassTUMORpost)]\n",
    "ClassTUMORpre=(Data[['ClassTumorPre']].values)\n",
    "ClassTUMORpre= (np.asarray(ClassTUMORpre))\n",
    "ClassTUMORpre=ClassTUMORpre[~np.isnan(ClassTUMORpre)]\n",
    "X_1 = np.stack((ClassBrainTissuepost,ClassBrainTissuepre)) # we only take the first two features.\n",
    "X_2 = np.stack((ClassTUMORpost,ClassTUMORpre))\n",
    "X=np.concatenate((X_1.transpose(), X_2.transpose()),axis=0)\n",
    "y =np.zeros((np.shape(X))[0])\n",
    "y[np.shape(X_1)[1]:]=1"
   ]
  },
  {
   "cell_type": "markdown",
   "metadata": {},
   "source": [
    "## Split training testing "
   ]
  },
  {
   "cell_type": "code",
   "execution_count": 3,
   "metadata": {
    "collapsed": false
   },
   "outputs": [],
   "source": [
    "# split X and y into training and testing sets\n",
    "from sklearn.model_selection import train_test_split\n",
    "X_train, X_test, y_train, y_test = train_test_split(X, y, random_state=0)"
   ]
  },
  {
   "cell_type": "markdown",
   "metadata": {},
   "source": [
    "## train a logistic regression model on the training set\n"
   ]
  },
  {
   "cell_type": "code",
   "execution_count": 4,
   "metadata": {
    "collapsed": false
   },
   "outputs": [
    {
     "data": {
      "text/plain": [
       "LogisticRegression(C=1.0, class_weight=None, dual=False, fit_intercept=True,\n",
       "          intercept_scaling=1, max_iter=100, multi_class='ovr', n_jobs=1,\n",
       "          penalty='l2', random_state=None, solver='liblinear', tol=0.0001,\n",
       "          verbose=0, warm_start=False)"
      ]
     },
     "execution_count": 4,
     "metadata": {},
     "output_type": "execute_result"
    }
   ],
   "source": [
    "from sklearn.linear_model import LogisticRegression\n",
    "logreg = LogisticRegression()\n",
    "logreg.fit(X_train, y_train)"
   ]
  },
  {
   "cell_type": "markdown",
   "metadata": {},
   "source": [
    "## make class predictions for the testing set\n"
   ]
  },
  {
   "cell_type": "code",
   "execution_count": 5,
   "metadata": {
    "collapsed": true
   },
   "outputs": [],
   "source": [
    "y_pred_class = logreg.predict(X_test)"
   ]
  },
  {
   "cell_type": "markdown",
   "metadata": {},
   "source": [
    "## calculate accuracy\n"
   ]
  },
  {
   "cell_type": "code",
   "execution_count": 6,
   "metadata": {
    "collapsed": false
   },
   "outputs": [
    {
     "name": "stdout",
     "output_type": "stream",
     "text": [
      "0.9364\n"
     ]
    }
   ],
   "source": [
    "# Classification accuracy: percentage of correct predictions\n",
    "\n",
    "from sklearn import metrics\n",
    "print(metrics.accuracy_score(y_test, y_pred_class))"
   ]
  },
  {
   "cell_type": "markdown",
   "metadata": {},
   "source": [
    "## Confusion matrix "
   ]
  },
  {
   "cell_type": "code",
   "execution_count": 7,
   "metadata": {
    "collapsed": false
   },
   "outputs": [
    {
     "name": "stdout",
     "output_type": "stream",
     "text": [
      "[[1188   75]\n",
      " [  84 1153]]\n"
     ]
    }
   ],
   "source": [
    "print(metrics.confusion_matrix(y_test, y_pred_class))\n"
   ]
  },
  {
   "cell_type": "code",
   "execution_count": 8,
   "metadata": {
    "collapsed": true
   },
   "outputs": [],
   "source": [
    "# save confusion matrix and slice into four pieces\n",
    "confusion = metrics.confusion_matrix(y_test, y_pred_class)\n",
    "TP = confusion[1, 1]\n",
    "TN = confusion[0, 0]\n",
    "FP = confusion[0, 1]\n",
    "FN = confusion[1, 0]\n"
   ]
  },
  {
   "cell_type": "markdown",
   "metadata": {},
   "source": [
    "##  Classification Accuracy\n",
    "Overall, how often is the classifier correct\n"
   ]
  },
  {
   "cell_type": "code",
   "execution_count": 9,
   "metadata": {
    "collapsed": false
   },
   "outputs": [
    {
     "name": "stdout",
     "output_type": "stream",
     "text": [
      "0.9364\n",
      "0.9364\n"
     ]
    }
   ],
   "source": [
    "print((TP + TN) / float(TP + TN + FP + FN))\n",
    "print(metrics.accuracy_score(y_test, y_pred_class))"
   ]
  },
  {
   "cell_type": "markdown",
   "metadata": {
    "collapsed": false
   },
   "source": [
    "##  Classification Error\n",
    "Overall, how often is the classifier incorrect?\n"
   ]
  },
  {
   "cell_type": "code",
   "execution_count": 10,
   "metadata": {
    "collapsed": false
   },
   "outputs": [
    {
     "name": "stdout",
     "output_type": "stream",
     "text": [
      "0.0636\n",
      "0.0636\n"
     ]
    }
   ],
   "source": [
    "print((FP + FN) / float(TP + TN + FP + FN))\n",
    "print(1 - metrics.accuracy_score(y_test, y_pred_class))"
   ]
  },
  {
   "cell_type": "markdown",
   "metadata": {},
   "source": [
    "## Sensitivity\n",
    "When the actual value is positive, how often is the prediction correct?\n"
   ]
  },
  {
   "cell_type": "code",
   "execution_count": 11,
   "metadata": {
    "collapsed": false
   },
   "outputs": [
    {
     "name": "stdout",
     "output_type": "stream",
     "text": [
      "0.932093775263\n",
      "0.932093775263\n"
     ]
    }
   ],
   "source": [
    " \n",
    "print(TP / float(TP + FN))\n",
    "print(metrics.recall_score(y_test, y_pred_class))"
   ]
  },
  {
   "cell_type": "markdown",
   "metadata": {},
   "source": [
    "## Specificity\n",
    "When the actual value is negative, how often is the prediction correct?\n"
   ]
  },
  {
   "cell_type": "code",
   "execution_count": 12,
   "metadata": {
    "collapsed": false
   },
   "outputs": [
    {
     "name": "stdout",
     "output_type": "stream",
     "text": [
      "0.940617577197\n"
     ]
    }
   ],
   "source": [
    "print(TN / float(TN + FP))\n"
   ]
  },
  {
   "cell_type": "markdown",
   "metadata": {},
   "source": [
    "## False Positive Rate\n",
    "\n",
    "When the actual value is negative, how often is the prediction incorrect?\n"
   ]
  },
  {
   "cell_type": "code",
   "execution_count": 13,
   "metadata": {
    "collapsed": false
   },
   "outputs": [
    {
     "name": "stdout",
     "output_type": "stream",
     "text": [
      "0.0593824228029\n"
     ]
    }
   ],
   "source": [
    "\n",
    "print(FP / float(TN + FP))\n"
   ]
  },
  {
   "cell_type": "markdown",
   "metadata": {},
   "source": [
    "## Precision\n",
    "When a positive value is predicted, how often is the prediction correct?\n"
   ]
  },
  {
   "cell_type": "code",
   "execution_count": 14,
   "metadata": {
    "collapsed": false
   },
   "outputs": [
    {
     "name": "stdout",
     "output_type": "stream",
     "text": [
      "0.938925081433\n",
      "0.938925081433\n"
     ]
    }
   ],
   "source": [
    "\n",
    "print(TP / float(TP + FP))\n",
    "print(metrics.precision_score(y_test, y_pred_class))"
   ]
  },
  {
   "cell_type": "markdown",
   "metadata": {},
   "source": [
    "## ROC Curves and Area Under the Curve (AUC)"
   ]
  },
  {
   "cell_type": "code",
   "execution_count": 15,
   "metadata": {
    "collapsed": false
   },
   "outputs": [
    {
     "data": {
      "image/png": "[encoded data removed]",
      "text/plain": [
       "<matplotlib.figure.Figure at 0x10b85a750>"
      ]
     },
     "metadata": {},
     "output_type": "display_data"
    }
   ],
   "source": [
    "# IMPORTANT: first argument is true values, second argument is predicted probabilities\n",
    "fpr, tpr, thresholds = metrics.roc_curve(y_test, y_pred_class)\n",
    "plt.plot(fpr, tpr)\n",
    "plt.xlim([0.0, 1.0])\n",
    "plt.ylim([0.0, 1.0])\n",
    "plt.title('ROC curve for diabetes classifier')\n",
    "plt.xlabel('False Positive Rate (1 - Specificity)')\n",
    "plt.ylabel('True Positive Rate (Sensitivity)')\n",
    "plt.grid(True)"
   ]
  },
  {
   "cell_type": "code",
   "execution_count": 16,
   "metadata": {
    "collapsed": false
   },
   "outputs": [
    {
     "name": "stdout",
     "output_type": "stream",
     "text": [
      "('Sensitivity:', 0.9320937752627324)\n",
      "('Specificity:', 0.94061757719714967)\n"
     ]
    }
   ],
   "source": [
    "\n",
    "# define a function that accepts a threshold and prints sensitivity and specificity\n",
    "def evaluate_threshold(threshold):\n",
    "    print('Sensitivity:', tpr[thresholds > threshold][-1])\n",
    "    print('Specificity:', 1 - fpr[thresholds > threshold][-1])\n",
    "    \n",
    "evaluate_threshold(0.5)\n"
   ]
  },
  {
   "cell_type": "markdown",
   "metadata": {},
   "source": [
    "## AUC \n",
    "The percentage of the ROC plot that is underneath the curve:\n"
   ]
  },
  {
   "cell_type": "code",
   "execution_count": 17,
   "metadata": {
    "collapsed": false
   },
   "outputs": [
    {
     "name": "stdout",
     "output_type": "stream",
     "text": [
      "0.93635567623\n"
     ]
    }
   ],
   "source": [
    "\n",
    "print(metrics.roc_auc_score(y_test, y_pred_class))\n"
   ]
  },
  {
   "cell_type": "markdown",
   "metadata": {},
   "source": [
    "### calculate cross-validated AUC"
   ]
  },
  {
   "cell_type": "code",
   "execution_count": 18,
   "metadata": {
    "collapsed": false
   },
   "outputs": [
    {
     "name": "stderr",
     "output_type": "stream",
     "text": [
      "/Users/m112447/Documents/PythonEnv/skynet/lib/python2.7/site-packages/sklearn/cross_validation.py:44: DeprecationWarning: This module was deprecated in version 0.18 in favor of the model_selection module into which all the refactored classes and functions are moved. Also note that the interface of the new CV iterators are different from that of this module. This module will be removed in 0.20.\n",
      "  \"This module will be removed in 0.20.\", DeprecationWarning)\n"
     ]
    },
    {
     "data": {
      "text/plain": [
       "0.97659079999999998"
      ]
     },
     "execution_count": 18,
     "metadata": {},
     "output_type": "execute_result"
    }
   ],
   "source": [
    "from sklearn.cross_validation import cross_val_score\n",
    "cross_val_score(logreg, X, y, cv=10, scoring='roc_auc').mean()"
   ]
  },
  {
   "cell_type": "code",
   "execution_count": null,
   "metadata": {
    "collapsed": true
   },
   "outputs": [],
   "source": []
  },
  {
   "cell_type": "code",
   "execution_count": null,
   "metadata": {
    "collapsed": true
   },
   "outputs": [],
   "source": []
  }
 ],
 "metadata": {
  "kernelspec": {
   "display_name": "Python 2",
   "language": "python",
   "name": "python2"
  },
  "language_info": {
   "codemirror_mode": {
    "name": "ipython",
    "version": 2
   },
   "file_extension": ".py",
   "mimetype": "text/x-python",
   "name": "python",
   "nbconvert_exporter": "python",
   "pygments_lexer": "ipython2",
   "version": "2.7.10"
  }
 },
 "nbformat": 4,
 "nbformat_minor": 1
}
