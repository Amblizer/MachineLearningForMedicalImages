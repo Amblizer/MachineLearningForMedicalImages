{
 "cells": [
  {
   "cell_type": "markdown",
   "metadata": {},
   "source": [
    "# Application Example"
   ]
  },
  {
   "cell_type": "markdown",
   "metadata": {},
   "source": [
    "### Step 1: Load basic python libraries "
   ]
  },
  {
   "cell_type": "code",
   "execution_count": 1,
   "metadata": {
    "collapsed": true
   },
   "outputs": [],
   "source": [
    "# This is used to display images within the browser \n",
    "%matplotlib inline \n",
    "\n",
    "\n",
    "import os\n",
    "import numpy as np\n",
    "import matplotlib.pyplot as plt\n",
    "import dicom as pydicom # library to load dicom images \n",
    "try:\n",
    "    import cPickle as pickle\n",
    "except:\n",
    "    import pickle\n",
    "from sklearn.preprocessing import StandardScaler\n",
    "import nibabel as nib"
   ]
  },
  {
   "cell_type": "markdown",
   "metadata": {},
   "source": [
    "### Step 2: Load the classifier and the images \n",
    "    # load a classifier that has been saved in pickle form\n",
    "        with open('my_dumped_classifier.pkl', 'rb') as fid:\n",
    "        gnb_loaded = cPickle.load(fid)"
   ]
  },
  {
   "cell_type": "code",
   "execution_count": 2,
   "metadata": {
    "collapsed": false
   },
   "outputs": [
    {
     "name": "stdout",
     "output_type": "stream",
     "text": [
      "['C', '__abstractmethods__', '__class__', '__delattr__', '__dict__', '__dir__', '__doc__', '__eq__', '__format__', '__ge__', '__getattribute__', '__getstate__', '__gt__', '__hash__', '__init__', '__le__', '__lt__', '__module__', '__ne__', '__new__', '__reduce__', '__reduce_ex__', '__repr__', '__setattr__', '__setstate__', '__sizeof__', '__str__', '__subclasshook__', '__weakref__', '_abc_cache', '_abc_negative_cache', '_abc_negative_cache_version', '_abc_registry', '_check_proba', '_compute_kernel', '_decision_function', '_dense_decision_function', '_dense_fit', '_dense_predict', '_dense_predict_proba', '_dual_coef_', '_estimator_type', '_gamma', '_get_coef', '_get_param_names', '_impl', '_intercept_', '_pairwise', '_predict_log_proba', '_predict_proba', '_sparse', '_sparse_decision_function', '_sparse_fit', '_sparse_kernels', '_sparse_predict', '_sparse_predict_proba', '_validate_for_predict', '_validate_targets', '_warn_from_fit_status', 'cache_size', 'class_weight', 'class_weight_', 'classes_', 'coef0', 'coef_', 'decision_function', 'decision_function_shape', 'degree', 'dual_coef_', 'epsilon', 'fit', 'fit_status_', 'gamma', 'get_params', 'intercept_', 'kernel', 'max_iter', 'n_support_', 'nu', 'predict', 'predict_log_proba', 'predict_proba', 'probA_', 'probB_', 'probability', 'random_state', 'score', 'set_params', 'shape_fit_', 'shrinking', 'support_', 'support_vectors_', 'tol', 'verbose']\n"
     ]
    }
   ],
   "source": [
    "with open('RBF SVM.pkl', 'rb') as fid:\n",
    "    classifier = pickle.load(fid)\n",
    "print (dir(classifier))"
   ]
  },
  {
   "cell_type": "markdown",
   "metadata": {
    "collapsed": true
   },
   "source": [
    "# Step 3: Load the unknown image and perform the segmetnation"
   ]
  },
  {
   "cell_type": "code",
   "execution_count": 13,
   "metadata": {
    "collapsed": false
   },
   "outputs": [
    {
     "name": "stdout",
     "output_type": "stream",
     "text": [
      "/home/pan0s/Dropbox/MachineLearningForMedicalImages/notebooks\n",
      "/home/pan0s/Dropbox/MachineLearningForMedicalImages\n",
      "Dimensions\n",
      "240 240 155\n"
     ]
    }
   ],
   "source": [
    "CurrentDir= os.getcwd()\n",
    "\n",
    "# Print current directory\n",
    "print (CurrentDir)\n",
    "\n",
    "# Get parent direcotry \n",
    "print(os.path.abspath(os.path.join(CurrentDir, os.pardir)))\n",
    "\n",
    "# Create the file paths. The images are contained in a subfolder called Data. \n",
    "PostName =  os.path.abspath(os.path.join(os.path.abspath(os.path.join(CurrentDir, os.pardir)), \"Data\",  'POST.nii.gz')  )\n",
    "PreName =  os.path.abspath(os.path.join(os.path.abspath(os.path.join(CurrentDir, os.pardir)), \"Data\", 'PRE.nii.gz') )\n",
    "FLAIRName =  os.path.abspath(os.path.join(os.path.abspath(os.path.join(CurrentDir, os.pardir)), \"Data\", 'FLAIR.nii.gz') )\n",
    "GT =  os.path.abspath(os.path.join(os.path.abspath(os.path.join(CurrentDir, os.pardir)), \"Data\", 'GroundTruth.nii.gz') )\n",
    "\n",
    "\n",
    "# read Pre in--we assume that all images are same x,y dims\n",
    "Pre = nib.load(PreName)\n",
    "# Pre is a class containing the image data among other information \n",
    "Pre=Pre.get_data()\n",
    "xdim = np.shape(Pre)[0]\n",
    "ydim = np.shape(Pre)[1]\n",
    "zdim = np.shape(Pre)[2]\n",
    "# Printing the dimensions of an image \n",
    "print ('Dimensions')\n",
    "print (xdim,ydim,zdim)\n",
    "# make space in a numpy array for the images\n",
    "ArrayDicom = np.zeros((xdim, ydim,zdim, 2), dtype=Pre.dtype)\n",
    "# copy Pre pixels into z=0\n",
    "ArrayDicom[:, :, :, 0] = Post\n",
    "# Post\n",
    "Post = nib.load(PostName)\n",
    "# Pre is a class containing the image data among other information \n",
    "Post=Post.get_data()\n",
    "ArrayDicom[:, :, :, 1] = Pre\n",
    "\n"
   ]
  },
  {
   "cell_type": "markdown",
   "metadata": {},
   "source": [
    "# Step 4: Use the pretrained classifier to perform segmentation"
   ]
  },
  {
   "cell_type": "markdown",
   "metadata": {},
   "source": [
    "#### Reshape the data"
   ]
  },
  {
   "cell_type": "code",
   "execution_count": 14,
   "metadata": {
    "collapsed": false,
    "scrolled": true
   },
   "outputs": [
    {
     "name": "stdout",
     "output_type": "stream",
     "text": [
      "Shape before reshape\n",
      "(240, 240, 155, 2)\n",
      "Shape after reshape\n",
      "(8928000, 2)\n"
     ]
    }
   ],
   "source": [
    "print ('Shape before reshape')\n",
    "print (np.shape(ArrayDicom))\n",
    "ArrayDicom=ArrayDicom.reshape(-1,2)\n",
    "print ('Shape after reshape')\n",
    "print (np.shape(ArrayDicom))\n",
    "\n"
   ]
  },
  {
   "cell_type": "markdown",
   "metadata": {},
   "source": [
    "#### Appy trained classifier "
   ]
  },
  {
   "cell_type": "code",
   "execution_count": null,
   "metadata": {
    "collapsed": false
   },
   "outputs": [],
   "source": [
    "ArrayDicom = StandardScaler().fit_transform(ArrayDicom)\n",
    "Labels=classifier.predict(ArrayDicom)\n"
   ]
  },
  {
   "cell_type": "markdown",
   "metadata": {},
   "source": [
    "#### Visualize results"
   ]
  },
  {
   "cell_type": "code",
   "execution_count": null,
   "metadata": {
    "collapsed": false
   },
   "outputs": [],
   "source": [
    "print (np.mean(Labels))\n",
    "print (np.shape(Labels))\n",
    "# respape to image\n",
    "Labels=Labels.reshape(240,240,155)\n",
    "f, (ax1,ax2,ax3)=plt.subplots(1,3)\n",
    "ax1.imshow(np.rot90(Post[:, :, 55,],3), cmap=plt.cm.gray)\n",
    "ax1.axis('off')\n",
    "ax2.imshow(np.rot90(Pre[:, :, 55,],3), cmap=plt.cm.gray)\n",
    "ax2.axis('off')\n",
    "ax3.imshow(np.rot90(Labels[:, :, 55,],3), cmap=plt.cm.jet)\n",
    "ax3.axis('off')"
   ]
  },
  {
   "cell_type": "code",
   "execution_count": null,
   "metadata": {
    "collapsed": true
   },
   "outputs": [],
   "source": []
  },
  {
   "cell_type": "code",
   "execution_count": null,
   "metadata": {
    "collapsed": true
   },
   "outputs": [],
   "source": []
  },
  {
   "cell_type": "code",
   "execution_count": null,
   "metadata": {
    "collapsed": true
   },
   "outputs": [],
   "source": []
  },
  {
   "cell_type": "code",
   "execution_count": null,
   "metadata": {
    "collapsed": true
   },
   "outputs": [],
   "source": []
  }
 ],
 "metadata": {
  "kernelspec": {
   "display_name": "Python 3",
   "language": "python",
   "name": "python3"
  }
 },
 "nbformat": 4,
 "nbformat_minor": 1
}
